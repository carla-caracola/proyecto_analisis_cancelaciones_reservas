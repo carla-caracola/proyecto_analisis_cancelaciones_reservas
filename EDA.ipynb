{
 "cells": [
  {
   "cell_type": "code",
   "execution_count": 1,
   "metadata": {},
   "outputs": [],
   "source": [
    "# importamos las librerías que necesitamos\n",
    "# Tratamiento de datos\n",
    "# -----------------------------------------------------------------------\n",
    "import pandas as pd\n",
    "import numpy as np\n",
    "\n",
    "# Imputación de nulos usando métodos avanzados estadísticos\n",
    "# -----------------------------------------------------------------------\n",
    "from sklearn.impute import SimpleImputer\n",
    "from sklearn.experimental import enable_iterative_imputer\n",
    "from sklearn.impute import IterativeImputer\n",
    "from sklearn.impute import KNNImputer\n",
    "\n",
    "# Librerías de visualización\n",
    "# -----------------------------------------------------------------------\n",
    "import seaborn as sns\n",
    "import matplotlib.pyplot as plt\n",
    "# Configuración\n",
    "# -----------------------------------------------------------------------\n",
    "pd.set_option('display.max_columns', None) # para poder visualizar todas las columnas de los DataFrames"
   ]
  },
  {
   "cell_type": "code",
   "execution_count": null,
   "metadata": {},
   "outputs": [],
   "source": [
    "def entender_datos(df):\n",
    "    # Encabezado\n",
    "    print(\"INFO SOBRE NUESTROS DATOS\")\n",
    "    print(\"============================================================================\")\n",
    "    # Información general\n",
    "    print(f\"El número de filas es: {df.shape[0]}\")\n",
    "    print(f\"El número de columnas es: {df.shape[1]}\")\n",
    "    print(\"============================================================================\")\n",
    "    # Descripción del DataFrame\n",
    "    print(\"DESCRIPCIÓN ESTADÍSTICA\")\n",
    "    print(df.describe().T)\n",
    "    print(\"============================================================================\")\n",
    "    # Columnas del DataFrame\n",
    "    print(\"COLUMNAS\")\n",
    "    print(df.columns)\n",
    "    print(\"============================================================================\")\n",
    "    # Filas duplicadas\n",
    "    print(f\"Número de filas duplicadas: {df.duplicated().sum()}\")\n",
    "    print(\"============================================================================\")\n",
    "    # Valores nulos totales\n",
    "    print(f\"Total de valores nulos: {df.isna().sum().sum()}\")\n",
    "    print(\"============================================================================\")\n",
    "    # Valores nulos por columna\n",
    "    print(\"VALORES NULOS POR COLUMNA\")\n",
    "    print(df.isna().sum())\n",
    "    print(\"============================================================================\")\n",
    "    #Porcentaje de valores nulos por columna\n",
    "    print(\"PORCENTAJE NULOS POR COLUMNA\")\n",
    "    print(round(df.isna().sum() / df.shape[0] * 100,2))\n",
    "    print(\"============================================================================\")\n",
    "    # Tipos de datos\n",
    "    print(\"TIPOS DE DATOS\")\n",
    "    print(df.dtypes.value_counts())\n",
    "    print(\"============================================================================\")\n",
    "    # Información del DataFrame\n",
    "    print(\"INFORMACIÓN DETALLADA\")\n",
    "    df.info()\n",
    "    print(\"============================================================================\")"
   ]
  },
  {
   "cell_type": "code",
   "execution_count": null,
   "metadata": {},
   "outputs": [],
   "source": [
    "#Creo un data frame con las columnas tipo objeto\n",
    "df2_cat = df2.select_dtypes(include = \"object\")\n",
    "# creamos una variable con los nombres de las columnas del DataFrame de las variables categóricas utilizando el método '.columns'\n",
    "columnas_cat = df2_cat.columns\n",
    "print(f\"Las columnas del DataFrame de variables categóricas son {columnas_cat}\")\n",
    "# empezamos a iterar por cada una de las columnas para sacar sus valores únicos y sus frecuencias\n",
    "for columna in columnas_cat:\n",
    "    print(f\" \\n----------- ESTAMOS ANALIZANDO LA COLUMNA: '{columna.upper()}' -----------\\n\")\n",
    "    print(f\"Sus valores únicos son: {df2_cat[columna].unique()}\\n\")\n",
    "    print(f\"Las frecuencias de los valores únicos de las categorías son: {df2_cat[columna].value_counts()} \")"
   ]
  }
 ],
 "metadata": {
  "kernelspec": {
   "display_name": "base",
   "language": "python",
   "name": "python3"
  },
  "language_info": {
   "codemirror_mode": {
    "name": "ipython",
    "version": 3
   },
   "file_extension": ".py",
   "mimetype": "text/x-python",
   "name": "python",
   "nbconvert_exporter": "python",
   "pygments_lexer": "ipython3",
   "version": "3.9.12"
  }
 },
 "nbformat": 4,
 "nbformat_minor": 2
}
