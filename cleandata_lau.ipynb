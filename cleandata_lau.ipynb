{
 "cells": [
  {
   "cell_type": "code",
   "execution_count": 52,
   "metadata": {},
   "outputs": [],
   "source": [
    "# importamos las librerías que necesitamos\n",
    "# Tratamiento de datos\n",
    "# -----------------------------------------------------------------------\n",
    "import pandas as pd\n",
    "import numpy as np\n",
    "\n",
    "# Imputación de nulos usando métodos avanzados estadísticos\n",
    "# -----------------------------------------------------------------------\n",
    "from sklearn.impute import SimpleImputer\n",
    "from sklearn.experimental import enable_iterative_imputer\n",
    "from sklearn.impute import IterativeImputer\n",
    "from sklearn.impute import KNNImputer\n",
    "\n",
    "# Librerías de visualización\n",
    "# -----------------------------------------------------------------------\n",
    "import seaborn as sns\n",
    "import matplotlib.pyplot as plt\n",
    "# Configuración\n",
    "# -----------------------------------------------------------------------\n",
    "pd.set_option('display.max_columns', None) # para poder visualizar todas las columnas de los DataFrames"
   ]
  },
  {
   "cell_type": "code",
   "execution_count": 53,
   "metadata": {},
   "outputs": [],
   "source": [
    "df = pd.read_csv(\"data/finanzas_hotel_bookings.csv\", index_col=0, low_memory=False)"
   ]
  },
  {
   "cell_type": "code",
   "execution_count": 54,
   "metadata": {},
   "outputs": [
    {
     "data": {
      "text/plain": [
       "Index(['hotel', 'is_canceled', 'lead_time', 'arrival_date_year',\n",
       "       'arrival_date_month', 'arrival_date_week_number',\n",
       "       'arrival_date_day_of_month', 'stays_in_weekend_nights',\n",
       "       'stays_in_week_nights', 'adults', 'children', 'babies', 'meal',\n",
       "       'country', 'market_segment', 'distribution_channel',\n",
       "       'is_repeated_guest', 'previous_cancellations',\n",
       "       'previous_bookings_not_canceled', 'reserved_room_type',\n",
       "       'assigned_room_type', 'booking_changes', 'agent', 'company',\n",
       "       'days_in_waiting_list', 'customer_type', 'adr',\n",
       "       'required_car_parking_spaces', 'total_of_special_requests',\n",
       "       'reservation_status', 'reservation_status_date', '0'],\n",
       "      dtype='object')"
      ]
     },
     "execution_count": 54,
     "metadata": {},
     "output_type": "execute_result"
    }
   ],
   "source": [
    "df.columns"
   ]
  },
  {
   "cell_type": "code",
   "execution_count": 55,
   "metadata": {},
   "outputs": [],
   "source": [
    "df = df.iloc[:119390]"
   ]
  },
  {
   "cell_type": "code",
   "execution_count": 56,
   "metadata": {},
   "outputs": [],
   "source": [
    "# →  Estandarizar para que en todos los casos sean números y cambiar el datatype de la columna a número entero.\n",
    "\n",
    "def cambiar_formato_mes(df):\n",
    "    # Diccionario de mapeo de meses y valores numéricos\n",
    "    dic_map = {\n",
    "        'January': 1, 'February': 2, 'March': 3, 'April': 4, 'May': 5, \n",
    "        'June': 6, 'July': 7, 'August': 8, 'September': 9, 'October': 10, \n",
    "        'November': 11, 'December': 12, \n",
    "        1: 1, 2: 2, 3: 3, 4:4, 5:5, 6:6, 7:7, 8:8, 9:9, 10:10, 11:11, 12:12, 'nan': np.nan}\n",
    "    \n",
    "    # Asegurarse de que los valores en la columna sean de tipo string para mapear correctamente\n",
    "    df['arrival_date_month'] = df['arrival_date_month'].astype(str).map(dic_map).astype('Int64')\n",
    "\n",
    "    return df\n",
    "\n",
    "df = cambiar_formato_mes(df)"
   ]
  },
  {
   "cell_type": "code",
   "execution_count": 58,
   "metadata": {},
   "outputs": [],
   "source": [
    "\n",
    "\n",
    "def rellenar_fecha_llegada(df):  \n",
    "\n",
    "    print(f'Nulos antes de hacer la operación:')\n",
    "    print(f'- arrival_date_year: {df[\"arrival_date_year\"].isna().sum()}')\n",
    "    print(f'- arrival_date_month: {df[\"arrival_date_month\"].isna().sum()}')\n",
    "    print(f'- arrival_date_day_of_month: {df[\"arrival_date_day_of_month\"].isna().sum()}')\n",
    "\n",
    "    # Asegúrate de que las columnas de fecha estén en formato datetime\n",
    "    df['reservation_status_date'] = pd.to_datetime(df['reservation_status_date'], errors='coerce')\n",
    "\n",
    "    # Crear una columna para el total de la estancia\n",
    "    df['total_stays'] = df['stays_in_weekend_nights'] + df['stays_in_week_nights']\n",
    "\n",
    "    # Inicializar la columna de fecha de llegada estimada con valores NaT (Not a Time)\n",
    "    df['estimated_arrival_date'] = pd.NaT\n",
    "\n",
    "    # Crear filtro para cuando el estado de la reserva es \"Checkout\"\n",
    "    filtro_checkout = df['reservation_status'] == 'Checkout'\n",
    "\n",
    "    # Calcular fecha de llegada estimada para \"Checkout\"\n",
    "    df.loc[filtro_checkout, 'estimated_arrival_date'] = df.loc[filtro_checkout, 'reservation_status_date'] - pd.to_timedelta(df.loc[filtro_checkout, 'total_stays'], unit='D')\n",
    "\n",
    "    # Para los que no son \"Checkout\", asumir que la llegada fue la fecha del estado de la reserva\n",
    "    df.loc[~filtro_checkout, 'estimated_arrival_date'] = df.loc[~filtro_checkout, 'reservation_status_date']\n",
    "\n",
    "    # Extraer el año, mes y día de la fecha de llegada estimada\n",
    "    df['estimated_arrival_year'] = df['estimated_arrival_date'].dt.year\n",
    "    df['estimated_arrival_month'] = df['estimated_arrival_date'].dt.month\n",
    "    df['estimated_arrival_day'] = df['estimated_arrival_date'].dt.day\n",
    "\n",
    "    # Rellenar los valores nulos en arrival_date_year, arrival_date_month y arrival_date_day_of_month con los valores estimados\n",
    "    df['arrival_date_year'] = df['arrival_date_year'].fillna(df['estimated_arrival_year'])\n",
    "    df['arrival_date_month'] = df['arrival_date_month'].fillna(df['estimated_arrival_month'])\n",
    "    df['arrival_date_day_of_month'] = df['arrival_date_day_of_month'].fillna(df['estimated_arrival_day'])\n",
    "\n",
    "    print(f'Nulos después de hacer la operación:')\n",
    "    print(f'- arrival_date_year: {df[\"arrival_date_year\"].isna().sum()}')\n",
    "    print(f'- arrival_date_month: {df[\"arrival_date_month\"].isna().sum()}')\n",
    "    print(f'- arrival_date_day_of_month: {df[\"arrival_date_day_of_month\"].isna().sum()}')\n",
    "\n",
    "    # borramos las columnas creadas para hacer los cálculos\n",
    "    columnas_a_borrar = ['estimated_arrival_date', 'estimated_arrival_year', 'estimated_arrival_month', 'estimated_arrival_day']\n",
    "    df = df.drop(columns=columnas_a_borrar)\n",
    "\n",
    "   \n"
   ]
  },
  {
   "cell_type": "code",
   "execution_count": 59,
   "metadata": {},
   "outputs": [
    {
     "name": "stdout",
     "output_type": "stream",
     "text": [
      "Nulos antes de hacer la operación:\n",
      "- arrival_date_year: 54561\n",
      "- arrival_date_month: 9390\n",
      "- arrival_date_day_of_month: 119\n",
      "Nulos después de hacer la operación:\n",
      "- arrival_date_year: 5936\n",
      "- arrival_date_month: 1042\n",
      "- arrival_date_day_of_month: 13\n"
     ]
    }
   ],
   "source": [
    "rellenar_fecha_llegada(df)"
   ]
  },
  {
   "cell_type": "code",
   "execution_count": 60,
   "metadata": {},
   "outputs": [],
   "source": [
    "def imputar_knn_fechas(df, n_neighbors=5):\n",
    "    # Seleccionar las columnas relevantes para la imputación\n",
    "    cols_fecha = ['arrival_date_year', 'arrival_date_month', 'arrival_date_day_of_month']\n",
    "    \n",
    "    # Filtrar el DataFrame para las columnas de fechas y convertirlas a float para KNNImputer\n",
    "    df_fechas = df[cols_fecha].astype(float)\n",
    "    \n",
    "    # Imputar los valores nulos usando KNN\n",
    "    imputer = KNNImputer(n_neighbors=n_neighbors)\n",
    "    df_imputado = imputer.fit_transform(df_fechas)\n",
    "    \n",
    "    # Convertir el resultado de vuelta a un DataFrame con las mismas columnas\n",
    "    df_imputado = pd.DataFrame(df_imputado, columns=cols_fecha)\n",
    "    \n",
    "    # Asegurarse de que los valores imputados sean enteros\n",
    "    df_imputado = df_imputado.round().astype(int)\n",
    "    \n",
    "    # Reemplazar las columnas originales en el DataFrame con los valores imputados\n",
    "    df[cols_fecha] = df_imputado\n",
    "    \n",
    "    "
   ]
  },
  {
   "cell_type": "code",
   "execution_count": 61,
   "metadata": {},
   "outputs": [],
   "source": [
    "imputar_knn_fechas(df)"
   ]
  },
  {
   "cell_type": "code",
   "execution_count": 62,
   "metadata": {},
   "outputs": [
    {
     "name": "stdout",
     "output_type": "stream",
     "text": [
      "Nulos después de hacer la operación:\n",
      "- arrival_date_year: 0\n",
      "- arrival_date_month: 0\n",
      "- arrival_date_day_of_month: 0\n"
     ]
    }
   ],
   "source": [
    "print(f'Nulos después de hacer la operación:')\n",
    "print(f'- arrival_date_year: {df[\"arrival_date_year\"].isna().sum()}')\n",
    "print(f'- arrival_date_month: {df[\"arrival_date_month\"].isna().sum()}')\n",
    "print(f'- arrival_date_day_of_month: {df[\"arrival_date_day_of_month\"].isna().sum()}')"
   ]
  },
  {
   "cell_type": "code",
   "execution_count": 69,
   "metadata": {},
   "outputs": [],
   "source": [
    "#creamos una columa nueva con la fecha de llegada\n",
    "\n",
    "def crear_columna_arrival_date(df):\n",
    "  # Crear la columna de fecha combinada\n",
    "      # Crear la columna de fecha combinada\n",
    "    df['arrival_date'] = pd.to_datetime(\n",
    "        df[['arrival_date_year', 'arrival_date_month', 'arrival_date_day_of_month']].astype(\n",
    "            str\n",
    "        ).agg('-'.join, axis=1), \n",
    "        format='%Y-%m-%d', \n",
    "        errors='coerce'\n",
    "    )"
   ]
  },
  {
   "cell_type": "code",
   "execution_count": 70,
   "metadata": {},
   "outputs": [],
   "source": [
    "crear_columna_arrival_date(df)"
   ]
  }
 ],
 "metadata": {
  "kernelspec": {
   "display_name": "Python 3",
   "language": "python",
   "name": "python3"
  },
  "language_info": {
   "codemirror_mode": {
    "name": "ipython",
    "version": 3
   },
   "file_extension": ".py",
   "mimetype": "text/x-python",
   "name": "python",
   "nbconvert_exporter": "python",
   "pygments_lexer": "ipython3",
   "version": "3.11.7"
  }
 },
 "nbformat": 4,
 "nbformat_minor": 2
}
